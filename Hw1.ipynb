{
 "cells": [
  {
   "cell_type": "raw",
   "id": "1d2174ba-4fb6-48a7-9601-155570bac5e5",
   "metadata": {},
   "source": [
    "Q1. Write all the conventions being followed while declaring a variable."
   ]
  },
  {
   "cell_type": "markdown",
   "id": "70fefd58-15d2-414f-88b3-a164b9d2872a",
   "metadata": {},
   "source": [
    "1. variable_name = value\n",
    "\n",
    "In Python, the following conventions are generally followed while declaring variables:\n",
    "\n",
    "* Use descriptive and meaningful names that reflect the purpose of the variable.\n",
    "* Start the variable name with a letter (lowercase or uppercase) or an underscore (_).\n",
    "* Do not use special characters such as @, #, $, %, etc. in variable names.\n",
    "* Use underscores to separate words in a variable name, for example, my_variable_name.\n",
    "* Avoid using single-character variable names except for variables used as loop counters or indices.\n",
    "* Avoid using reserved keywords as variable names, such as if, while, for, and, or, not, else, elif, import, def, class, etc."
   ]
  },
  {
   "cell_type": "code",
   "execution_count": 1,
   "id": "6940c3b2-910e-4eac-ae29-5216ee275c32",
   "metadata": {},
   "outputs": [],
   "source": [
    "a = 10 "
   ]
  },
  {
   "cell_type": "code",
   "execution_count": 2,
   "id": "1c9861b1-c355-4fed-b2cd-93eb1743f6c7",
   "metadata": {},
   "outputs": [
    {
     "data": {
      "text/plain": [
       "10"
      ]
     },
     "execution_count": 2,
     "metadata": {},
     "output_type": "execute_result"
    }
   ],
   "source": [
    "a"
   ]
  },
  {
   "cell_type": "raw",
   "id": "5d978d61-ad9d-46f0-b52a-db9825647618",
   "metadata": {},
   "source": [
    "Q2. What will happen if we declare a restricted keyword as a variable?"
   ]
  },
  {
   "cell_type": "markdown",
   "id": "9ff1d98e-5499-458e-ab62-5f7356b7134d",
   "metadata": {},
   "source": [
    "2 . In Python, you cannot use a restricted keyword as a variable name. If you try to declare a variable with a name that is a restricted keyword, you will get a syntax error.\n",
    "\n",
    "Restricted keywords are words that have a special meaning in Python and are used to define the language's syntax and structure. They cannot be used as variable names, function names, or any other identifier. For example, the following keywords are restricted in Python:"
   ]
  },
  {
   "cell_type": "raw",
   "id": "fec2ab04-e377-43f1-b2af-3f4b4f0ca0b2",
   "metadata": {},
   "source": [
    "and, as, assert, break, class, continue, def, del, elif, else, except, False, finally, for, from, global, if, import, in, is, lambda, None, nonlocal, not, or, pass, raise, return, True, try, while, with, yield"
   ]
  },
  {
   "cell_type": "markdown",
   "id": "13de44cd-9ea7-4258-8caf-3ce2f26fa065",
   "metadata": {},
   "source": [
    "If you try to declare a variable with any of these names, you will get a syntax error:"
   ]
  },
  {
   "cell_type": "code",
   "execution_count": 4,
   "id": "9c1f4eff-1a60-41be-9f11-567cc40bff6d",
   "metadata": {},
   "outputs": [
    {
     "ename": "SyntaxError",
     "evalue": "invalid syntax (3601276001.py, line 1)",
     "output_type": "error",
     "traceback": [
      "\u001b[0;36m  Cell \u001b[0;32mIn[4], line 1\u001b[0;36m\u001b[0m\n\u001b[0;31m    not = 10\u001b[0m\n\u001b[0m        ^\u001b[0m\n\u001b[0;31mSyntaxError\u001b[0m\u001b[0;31m:\u001b[0m invalid syntax\n"
     ]
    }
   ],
   "source": [
    "not = 10"
   ]
  },
  {
   "cell_type": "markdown",
   "id": "908ef856-868d-4351-8575-cbee04c52db6",
   "metadata": {},
   "source": [
    "To avoid this error, you should choose a different name for your variable that is not a restricted keyword. For example:"
   ]
  },
  {
   "cell_type": "code",
   "execution_count": 5,
   "id": "62403a55-639d-476c-890d-19e01f86516a",
   "metadata": {},
   "outputs": [],
   "source": [
    "variable_name = 10 "
   ]
  },
  {
   "cell_type": "code",
   "execution_count": 6,
   "id": "fa8a1e68-dce3-439a-abbb-f5d575369595",
   "metadata": {},
   "outputs": [
    {
     "data": {
      "text/plain": [
       "10"
      ]
     },
     "execution_count": 6,
     "metadata": {},
     "output_type": "execute_result"
    }
   ],
   "source": [
    "variable_name"
   ]
  },
  {
   "cell_type": "raw",
   "id": "dacd609a-6e89-4bc2-8c36-5e37fe2e4553",
   "metadata": {},
   "source": [
    "Q3. Can we actually declare a string as a variable name?"
   ]
  },
  {
   "cell_type": "markdown",
   "id": "8a8f885c-ac74-49d7-8575-f609f3d00fde",
   "metadata": {},
   "source": [
    "3. Yes, you can declare a string as a variable name using the following syntax:"
   ]
  },
  {
   "cell_type": "code",
   "execution_count": 7,
   "id": "b537531e-105c-4663-ba66-5af608f2231d",
   "metadata": {},
   "outputs": [],
   "source": [
    "var = \"Pradeep\" "
   ]
  },
  {
   "cell_type": "code",
   "execution_count": 8,
   "id": "d3690a33-f0db-4310-bb54-e35daf55bbcb",
   "metadata": {},
   "outputs": [
    {
     "data": {
      "text/plain": [
       "'Pradeep'"
      ]
     },
     "execution_count": 8,
     "metadata": {},
     "output_type": "execute_result"
    }
   ],
   "source": [
    "var"
   ]
  },
  {
   "cell_type": "raw",
   "id": "5bd2dcc4-faf9-446a-9952-97ef02f3c14b",
   "metadata": {},
   "source": [
    "Q4. Is it possible for us to declare “_” as a variable? If so, then write an example of it."
   ]
  },
  {
   "cell_type": "markdown",
   "id": "aedc568f-1517-4759-88ed-2e0832830acd",
   "metadata": {},
   "source": [
    "4. Yes, you can declare '_' as a variable name. "
   ]
  },
  {
   "cell_type": "code",
   "execution_count": 9,
   "id": "1db6b876-6fc3-422a-9368-fcc88750b97c",
   "metadata": {},
   "outputs": [],
   "source": [
    "_ = 10"
   ]
  },
  {
   "cell_type": "code",
   "execution_count": 10,
   "id": "f87714b5-a4a4-481b-a227-7fab4ad08d56",
   "metadata": {},
   "outputs": [
    {
     "data": {
      "text/plain": [
       "10"
      ]
     },
     "execution_count": 10,
     "metadata": {},
     "output_type": "execute_result"
    }
   ],
   "source": [
    "_"
   ]
  },
  {
   "cell_type": "code",
   "execution_count": null,
   "id": "bcdd8476-91ab-4ab5-909e-53cfd9e0da39",
   "metadata": {},
   "outputs": [],
   "source": [
    "Q5. Using an example, explain how the variables in python are dynamic in nature."
   ]
  },
  {
   "cell_type": "markdown",
   "id": "430bca3a-cceb-447c-b015-0f4f3a76553a",
   "metadata": {},
   "source": [
    "5. In Python, variables are dynamically typed, which means that you don't have to specify the data type of a variable when you declare it. Instead, the data type of a variable is determined at runtime based on the value assigned to it.\n",
    "\n",
    "For example, consider the following code:"
   ]
  },
  {
   "cell_type": "code",
   "execution_count": 20,
   "id": "73c18873-5300-47f0-a5da-fe4624c562f5",
   "metadata": {},
   "outputs": [],
   "source": [
    "x = 10 "
   ]
  },
  {
   "cell_type": "code",
   "execution_count": 21,
   "id": "78ccaa59-b5fe-477d-85b6-002d47f5943b",
   "metadata": {},
   "outputs": [
    {
     "data": {
      "text/plain": [
       "int"
      ]
     },
     "execution_count": 21,
     "metadata": {},
     "output_type": "execute_result"
    }
   ],
   "source": [
    "type(x)"
   ]
  },
  {
   "cell_type": "code",
   "execution_count": 22,
   "id": "d3fa8acd-db38-4a12-b092-b8205d0d36d4",
   "metadata": {},
   "outputs": [],
   "source": [
    "x = 'car'"
   ]
  },
  {
   "cell_type": "code",
   "execution_count": 23,
   "id": "6c91f3ee-6d83-44f0-99a8-b0d6ba25d9b8",
   "metadata": {},
   "outputs": [
    {
     "data": {
      "text/plain": [
       "str"
      ]
     },
     "execution_count": 23,
     "metadata": {},
     "output_type": "execute_result"
    }
   ],
   "source": [
    "type(x)"
   ]
  },
  {
   "cell_type": "markdown",
   "id": "5c6d92dc-aa47-416e-bf22-04f7f3542149",
   "metadata": {},
   "source": [
    "In this example, we first assign the value 10 to the variable x. Python infers that x is an integer and assigns the appropriate data type to it. We then print the data type of x using the type() function, which confirms that x is indeed an integer.\n",
    "\n",
    "Next, we assign the value 'car' to the same variable x. Since the value is a string, Python infers that x is now a string and assigns the appropriate data type to it. We then print the data type of x again, which confirms that x is now a string.\n",
    "\n",
    "This demonstrates the dynamic nature of variables in Python. You can assign values of different types to the same variable, and Python will adjust the data type of the variable accordingly at runtime."
   ]
  }
 ],
 "metadata": {
  "kernelspec": {
   "display_name": "Python 3 (ipykernel)",
   "language": "python",
   "name": "python3"
  },
  "language_info": {
   "codemirror_mode": {
    "name": "ipython",
    "version": 3
   },
   "file_extension": ".py",
   "mimetype": "text/x-python",
   "name": "python",
   "nbconvert_exporter": "python",
   "pygments_lexer": "ipython3",
   "version": "3.10.8"
  }
 },
 "nbformat": 4,
 "nbformat_minor": 5
}
